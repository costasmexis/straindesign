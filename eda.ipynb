{
 "cells": [
  {
   "cell_type": "code",
   "execution_count": 4,
   "metadata": {},
   "outputs": [
    {
     "name": "stdout",
     "output_type": "stream",
     "text": [
      "Original data shape: (330, 3)\n",
      "Processed data shape: (30, 10)\n",
      "X_train shape: (27, 9) \n",
      "X_test shape: (3, 9)\n"
     ]
    }
   ],
   "source": [
    "''' Import libraries '''\n",
    "import pandas as pd\n",
    "import numpy as np\n",
    "from utils import *\n",
    "\n",
    "PATH = 'data/limonene_data.csv'\n",
    "MAX_ITER = 100000\n",
    "RESPONSE_VARS = ['Limonene']\n",
    "INPUT_VARS = ['ATOB_ECOLI','ERG8_YEAST','IDI_ECOLI',\n",
    "                   'KIME_YEAST','MVD1_YEAST','Q40322_MENSP',\n",
    "                   'Q8LKJ3_ABIGR','Q9FD86_STAAU','Q9FD87_STAAU']\n",
    "DBTL_A = ['2X-Mh', 'B-Lm', '2X-Ll', 'A-Mm', 'B-Ll', 'A-Mh', '2X-Lm',\n",
    "       'A-Hl', '2X-Hh', 'B-Ml', 'B-Mm', '2X-Lh', 'B-Mh', '2X-Hl', 'B-Hl',\n",
    "       '2X-Ml', 'B-Hm', 'B-Lh', 'B-Hh', 'A-Ll', 'A-Hm', '2X-Mm', 'A-Hh',\n",
    "       'A-Ml', 'A-Lm',  'A-Lh', '2X-Hm']\n",
    "DBTL_B = ['BL-Mm', 'BL-Mh', 'BL-Ml']\n",
    "\n",
    "''' Read original data and transform it for analysis'''\n",
    "df = read_data(PATH)\n",
    "print(f'Original data shape: {df.shape}')\n",
    "data = transform_data(df)\n",
    "print(f'Processed data shape: {data.shape}')\n",
    "data.to_csv('data/preprocessed_data.csv')\n",
    "\n",
    "# DBTL 1st cycle \n",
    "data_A = data[data.index.isin(DBTL_A)]\n",
    "# DBTL 2nd cycle\n",
    "data_B = data[data.index.isin(DBTL_B)] \n",
    "# Reorder columns based on specific order\n",
    "data_A = data_A[INPUT_VARS + RESPONSE_VARS]\n",
    "data_B = data_B[INPUT_VARS + RESPONSE_VARS]\n",
    "# Save data to csv files\n",
    "data_A.to_csv('data/data_A.csv')\n",
    "data_B.to_csv('data/data_B.csv')\n",
    "\n",
    "# %%\n",
    "''' Data split to train & test '''\n",
    "X_train = data_A[INPUT_VARS]\n",
    "y_train = data_A[RESPONSE_VARS]\n",
    "X_test = data_B[INPUT_VARS]\n",
    "y_test = data_B[RESPONSE_VARS]\n",
    "print(f'X_train shape: {X_train.shape} \\nX_test shape: {X_test.shape}')"
   ]
  }
 ],
 "metadata": {
  "kernelspec": {
   "display_name": "Python 3 (ipykernel)",
   "language": "python",
   "name": "python3"
  },
  "language_info": {
   "codemirror_mode": {
    "name": "ipython",
    "version": 3
   },
   "file_extension": ".py",
   "mimetype": "text/x-python",
   "name": "python",
   "nbconvert_exporter": "python",
   "pygments_lexer": "ipython3",
   "version": "3.10.12"
  }
 },
 "nbformat": 4,
 "nbformat_minor": 4
}
